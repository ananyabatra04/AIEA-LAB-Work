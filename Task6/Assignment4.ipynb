{
 "cells": [
  {
   "cell_type": "code",
   "execution_count": null,
   "metadata": {},
   "outputs": [],
   "source": [
    "from production import IF, AND, OR, NOT, THEN, DELETE, forward_chain\n",
    "from data import *"
   ]
  },
  {
   "cell_type": "markdown",
   "metadata": {},
   "source": [
    "# Problem 4 - First Rule\n",
    "We can use a production system to rank types of poker hands against each other. If we tell it basic things such as 'three-of-a-kind beats two-pair' and 'two-pair beats pair', it would make sense for it to be able to deduce by transitivity that 'three-of-a-kind beats pair'.\n",
    "\n",
    "You're given this data about poker hands:\n",
    "```\n",
    "poker_data = [ 'two-pair beats pair',\n",
    "               'three-of-a-kind beats two-pair',\n",
    "               'straight beats three-of-a-kind',\n",
    "               'flush beats straight',\n",
    "               'full-house beats flush',\n",
    "               'straight-flush beats full-house' ]\n",
    "```\n",
    "Write a one-rule system that finds all other combinations of which poker hands beat which, transitively, given some of the rankings already. For example, it should be able to deduce that a three-of-a-kind beats a pair, because a three-of-a-kind beats two-pair and a two-pair beats a pair. The rankings (data) are all provided in the form '(?x) beats (?y)'."
   ]
  },
  {
   "cell_type": "code",
   "execution_count": 30,
   "metadata": {},
   "outputs": [],
   "source": [
    "\"\"\"\n",
    "Write a one-rule system that finds all other combinations of which poker hands beat which, \n",
    "transitively, given some of the rankings already. \n",
    "For example, it should be able to deduce that a three-of-a-kind beats a pair, because a three-of-a-kind beats \n",
    "two-pair and a two-pair beats a pair. The rankings (data) are all provided in the form '(?x) beats (?y)'.\n",
    "\"\"\"\n",
    "def transitive_rule():\n",
    "    # YOUR ANSWER HERE\n",
    "    rule = IF( AND('(?x) beats (?y)', '(?y) beats (?z)'), THEN('(?x) beats (?z)') )\n",
    "    return rule"
   ]
  },
  {
   "cell_type": "code",
   "execution_count": 31,
   "metadata": {},
   "outputs": [
    {
     "name": "stdout",
     "output_type": "stream",
     "text": [
      "('a beats b', 'b beats c', 'a beats c')\n",
      "('two-pair beats pair', 'three-of-a-kind beats two-pair', 'straight beats three-of-a-kind', 'flush beats straight', 'full-house beats flush', 'straight-flush beats full-house', 'three-of-a-kind beats pair', 'straight beats two-pair', 'straight beats pair', 'flush beats three-of-a-kind', 'flush beats two-pair', 'flush beats pair', 'full-house beats straight', 'full-house beats three-of-a-kind', 'full-house beats two-pair', 'full-house beats pair', 'straight-flush beats flush', 'straight-flush beats straight', 'straight-flush beats three-of-a-kind', 'straight-flush beats two-pair', 'straight-flush beats pair')\n",
      "('diamond-sword beats diamond-axe', 'stone-pick beats stone-shovel', 'diamond-axe beats iron-axe', 'iron-axe beats stone-shovel', 'iron-pick beats stone-pick', 'iron-axe beats iron-pick', 'stone-shovel beats fist', 'diamond-sword beats iron-axe', 'stone-pick beats fist', 'diamond-axe beats stone-shovel', 'diamond-sword beats stone-shovel', 'diamond-axe beats iron-pick', 'diamond-sword beats iron-pick', 'iron-axe beats fist', 'diamond-axe beats fist', 'diamond-sword beats fist', 'iron-pick beats stone-shovel', 'iron-pick beats fist', 'iron-axe beats stone-pick', 'diamond-axe beats stone-pick', 'diamond-sword beats stone-pick')\n"
     ]
    }
   ],
   "source": [
    "# You can test your rule by uncommenting these print statements:\n",
    "print(forward_chain([transitive_rule()], abc_data))\n",
    "print(forward_chain([transitive_rule()], poker_data))\n",
    "print(forward_chain([transitive_rule()], minecraft_data))"
   ]
  },
  {
   "cell_type": "markdown",
   "metadata": {},
   "source": [
    "# Part 5: Family Relations -> Rule Set\n",
    "You will be given data that includes two kinds of statements:\n",
    "\n",
    "- 'person (?x)': x is a person\n",
    "- 'parent (?x) (?y)': x is a parent of y\n",
    "Every person in the data set will be explicitly defined as a person.\n",
    "\n",
    "Your task is to deduce, wherever you can, the following relations:\n",
    "\n",
    "- 'sibling (?x) (?y)': x is the sibling of y (x and y are different people, but share at least one parent)\n",
    "- 'child (?x) (?y)': x is the child of y\n",
    "- 'cousin (?x) (?y)': x and y are cousins (a parent of x and a parent of y are siblings, but x and y are not siblings)\n",
    "- 'grandparent (?x) (?y)': x is the grandparent of y\n",
    "- 'grandchild (?x) (?y)': x is the grandchild of y\n",
    "\n",
    "Note that for this problem, you are not limited to only defining rules that generate one of the five familial relations enumerated above. You are welcome to include rules that inform other relations. You're also welcome to implement additional familial relations such as great-grandparent or nibling, if you feel so inclined.\n",
    "\n",
    "Keep in mind that some relations are symmetric, so you need to include them both ways. For example, if a is a cousin of b, then b is a cousin of a.\n",
    "\n",
    "First, define all your rules individually -- that is, give them names by assigning them to variables. This will enable you to refer to the rules by name and easily rearrange them if you need to. Then, put them together into a list in order, and call it family_rules, so that the rules can be plugged into the forward-chaining system.\n",
    "\n",
    "We've given you two larger sets of test data -- one for the Simpsons family, and one for the Black family from Harry Potter -- as well as a couple smaller data sets to help with debugging. To debug what happened in your rules, you can set verbose=True.\n",
    "\n",
    "You will write your solution in lab1.py in the section labeled \"Part 3\". Note that lab1.py will automatically define a variable called black_family_cousins which will include all the 'cousin (?x) (?y)' relations you find in the Black family, per your rule set. There should be 14 of them.\n",
    "\n",
    "IMPORTANT: Make sure you implement all five relations defined above. In this lab, the online tester will be stricter, and may test some relations not tested offline."
   ]
  },
  {
   "cell_type": "code",
   "execution_count": 1,
   "metadata": {},
   "outputs": [],
   "source": [
    "def family_rules():\n",
    "    # YOURANSWER HERE: Add your rules to this list:\n",
    "    rules = [ IF( 'person (?x)',\n",
    "                     THEN('self (?x) (?x)') ),\n",
    "\n",
    "                 IF( AND('parent (?p) (?x)',\n",
    "                         'parent (?p) (?y)',\n",
    "                         NOT('self (?x) (?y)')),\n",
    "                     THEN('sibling (?x) (?y)')),\n",
    "             \n",
    "             IF('parent (?p) (?x)',\n",
    "                 THEN('child (?x) (?p)') ),\n",
    "                \n",
    "                IF( AND('sibling (?p) (?q)',\n",
    "                        'parent (?p) (?x)',\n",
    "                        'parent (?q) (?y)'),\n",
    "                    THEN('cousin (?x) (?y)')),\n",
    "             \n",
    "             IF( AND('parent (?g) (?p)',\n",
    "                   'parent (?p) (?x)'),\n",
    "               THEN('grandparent (?g) (?x)')),\n",
    "             \n",
    "                 IF( AND('child (?p) (?g)',\n",
    "                       'child (?x) (?p)'),\n",
    "                   THEN('grandchild (?x) (?g)'))\n",
    "            ]\n",
    "    return rules\n",
    "\n",
    "\n",
    "# Uncomment this to test your data on the Simpsons family:\n",
    "# print(forward_chain(family_rules(), simpsons_data, verbose=False))\n",
    "\n",
    "# These smaller datasets might be helpful for debugging:\n",
    "# print(forward_chain(family_rules(), sibling_test_data, verbose=True))\n",
    "# print(forward_chain(family_rules(), grandparent_test_data, verbose=True))\n",
    "\n",
    "# The following should generate 14 cousin relationships, representing 7 pairs\n",
    "# of people who are cousins:\n",
    "# black_family_cousins = [\n",
    "#     relation for relation in\n",
    "#     forward_chain(family_rules(), black_data, verbose=False)\n",
    "#     if \"cousin\" in relation ]\n",
    "\n",
    "# To see if you found them all, uncomment this line:\n",
    "# print(black_family_cousins)"
   ]
  },
  {
   "cell_type": "markdown",
   "metadata": {},
   "source": [
    "# Part 6 - Backward Chaining\n",
    "\n",
    "In this problem, we will do backward chaining by starting from a conclusion, and generating a goal tree of all of the statements we may need to test. The leaves of the goal tree will be sentences (strings) such as 'opus swims', indicating atomic failure or success based on whether or not 'opus swims' is in our assertions list.\n",
    "\n",
    "We'll run this backward chainer on the zookeeper system of rules, a simple set of production rules for classifying animals, which you will find in data.py. As an example, here is the goal tree generated for the hypothesis 'opus is a penguin':\n",
    "```\n",
    "OR(\n",
    "  'opus is a penguin',\n",
    "  AND(\n",
    "    OR('opus is a bird', 'opus has feathers', AND('opus flies', 'opus lays eggs'))\n",
    "    'opus does not fly',\n",
    "    'opus swims',\n",
    "    'opus has black and white color' ))\n",
    "```\n",
    "You will write a procedure, `backchain_to_goal_tree(rules, hypothesis)`, which outputs the goal tree containing the statements you would need to test to prove the hypothesis. Note that this function is supposed to be a general backchainer, so you should not hard-code anything that is specific to a particular rule set. The backchainer will be tested on rule sets other than zookeeper_rules.\n",
    "\n",
    "The rules you work with will be limited in scope, because general-purpose backward chainers are difficult to write. In particular, for this problem, make the following assumptions:\n",
    "\n",
    "All variables that appear in a rule's antecedent also appear in its consequent (so there are no \"unknown\" variables in the antecedent). In other words, you will not need to do backtracking.\n",
    "All assertions are positive: no rules will have DELETE clauses or NOT expressions.\n",
    "Rule antecedents never have nested RuleExpression nodes. For example, an expression such as (OR (AND x y) (AND z w)) will never appear within an antecedent, because that contains an AND expression nested under an OR expression.\n",
    "Rule consequents always have just a single statement.\n",
    "Note that an antecedent can be a single hypothesis (a string) or a RuleExpression.\n",
    "\n",
    "Taking advantage of your visual problem-solving apparatus\n",
    "As a species, humans are very visual learners. If you're having trouble conceptualizing what should be going on in the backward chaining algorithm, we strongly recommend drawing a diagram and working your way down the goal tree by hand.\n",
    "\n"
   ]
  },
  {
   "cell_type": "code",
   "execution_count": 152,
   "metadata": {},
   "outputs": [
    {
     "name": "stdout",
     "output_type": "stream",
     "text": [
      "OR('opus is a penguin', AND(OR('opus is a bird', 'opus has feathers', AND('opus flies', 'opus lays eggs')), 'opus does not fly', 'opus swims', 'opus has black and white color'))\n"
     ]
    }
   ],
   "source": [
    "# Import additional methods for backchaining\n",
    "from production import AND, OR, NOT, PASS, FAIL, IF, THEN, match, populate, simplify, variables\n",
    "from data import zookeeper_rules\n",
    "\n",
    "def backchain_to_goal_tree(rules, hypothesis):\n",
    "    \"\"\"\n",
    "    Takes a hypothesis (string) and a list of rules (list\n",
    "    of IF objects), returning an AND/OR tree representing the\n",
    "    backchain of possible statements we may need to test\n",
    "    to determine if this hypothesis is reachable or not.\n",
    "\n",
    "    This method should return an AND/OR tree, that is, an\n",
    "    AND or OR object, whose constituents are the subgoals that\n",
    "    need to be tested. The leaves of this tree should be strings\n",
    "    (possibly with unbound variables), *not* AND or OR objects.\n",
    "    Make sure to use simplify(...) to flatten trees where appropriate.\n",
    "    \"\"\"\n",
    "    # YOUR CODE HERE\n",
    "    \n",
    "    '''\n",
    "    loop through all the rules\n",
    "    check if consequent of a loop contains hypothesis\n",
    "    \n",
    "    for the rule that contains hypothesis, check if all the antecendents are satisfied\n",
    "    to do this, recursively pass each antecedent as the new hypothesis \n",
    "    for AND, make sure each condition is met\n",
    "    for OR, make sure at least one condition is met\n",
    "    '''\n",
    "\n",
    "    def backchain_helper(rules, hyp):\n",
    "        subvals = []\n",
    "        for rule in rules:\n",
    "            binding = match(rule.consequent(), hyp)\n",
    "            if binding:\n",
    "                cons = str(populate(rule.consequent(), binding))\n",
    "                ant = rule.antecedent()\n",
    "\n",
    "                if isinstance(ant, AND):\n",
    "                    values = []\n",
    "                    for condition in ant:\n",
    "                        cond = str(populate(condition, binding))\n",
    "                        val = backchain_to_goal_tree(rules, cond)\n",
    "                        values.append(val)\n",
    "                    subvals.append(simplify(AND(values)))\n",
    "                    \n",
    "                else:\n",
    "                    subvals.append(ant)\n",
    "           \n",
    "        tree = OR(hyp,)\n",
    "        for val in subvals:\n",
    "            tree.append(val)\n",
    "        return tree\n",
    "    \n",
    "    tree = simplify(backchain_helper(rules, hypothesis))\n",
    "    return tree\n",
    "\n",
    "            \n",
    "\n",
    "# Uncomment this to test out your backward chainer:\n",
    "print(backchain_to_goal_tree(zookeeper_rules, 'opus is a penguin'))\n",
    "\n"
   ]
  }
 ],
 "metadata": {
  "colab": {
   "provenance": []
  },
  "kernelspec": {
   "display_name": "Python 3 (ipykernel)",
   "language": "python",
   "name": "python3"
  },
  "language_info": {
   "codemirror_mode": {
    "name": "ipython",
    "version": 3
   },
   "file_extension": ".py",
   "mimetype": "text/x-python",
   "name": "python",
   "nbconvert_exporter": "python",
   "pygments_lexer": "ipython3",
   "version": "3.11.4"
  }
 },
 "nbformat": 4,
 "nbformat_minor": 1
}
